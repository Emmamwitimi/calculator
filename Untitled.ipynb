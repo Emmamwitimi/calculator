{
 "cells": [
  {
   "cell_type": "code",
   "execution_count": null,
   "id": "f553472d",
   "metadata": {},
   "outputs": [],
   "source": [
    "from tkinter import*\n",
    "from tkinter import ttk\n",
    "#system name=calc title=calculator  ,operator to hold on any input,\n",
    "def btnclick(number):\n",
    "    global operator\n",
    "    operator=operator+ str(number)\n",
    "    text_input.set(operator)\n",
    "    \n",
    "def btnclear():\n",
    "    global operator\n",
    "    sumup=str(eval (operator))\n",
    "    text_input.set(sumup)\n",
    "    operator=\"\"\n",
    "\n",
    "def btnsum():        \n",
    "    global operator\n",
    "    operator=\"\"\n",
    "    text_input.set(\"\")\n",
    "\n",
    "    \n",
    "calc=Tk()\n",
    "calc.title(\"calculator\")\n",
    "operator=\"\"\n",
    "text_input=StringVar()\n",
    "#define your textbox\n",
    "txtDisplay=Entry(calc, font=(\"arial\", 20, \"bold\"), \n",
    "                 textvariable=text_input, bd=30, insertwidth=4, bg=\"powder blue\", \n",
    "                 justify=\"right\") .grid(columnspan=4)\n",
    "#create buttons\n",
    "btn7=Button(calc, padx=16, bd=8, fg=\"black\", font=(\"arial\", 20, \"bold\"),\n",
    "           text=\"7\",bg=\"powder blue\", command=lambda:btnclick(7) ).grid(row=1, column=0)\n",
    "btn8=Button(calc, padx=16, bd=8, fg=\"black\", font=(\"arial\", 20, \"bold\"),\n",
    "           text=\"8\",bg=\"powder blue\", command=lambda:btnclick(8)).grid(row=1, column=1)\n",
    "btn9=Button(calc, padx=16, bd=8, fg=\"black\", font=(\"arial\", 20, \"bold\"),\n",
    "           text=\"9\",bg=\"powder blue\", command=lambda:btnclick(9)).grid(row=1, column=2)\n",
    "sub=Button(calc, padx=16, bd=8, fg=\"black\", font=(\"arial\", 20, \"bold\"),\n",
    "           text=\"-\",bg=\"powder blue\", command=lambda:btnclick(\"-\")).grid(row=1, column=3)\n",
    "btn4=Button(calc, padx=16, bd=8, fg=\"black\", font=(\"arial\", 20, \"bold\"),\n",
    "           text=\"4\",bg=\"powder blue\", command=lambda:btnclick(4)).grid(row=2, column=0)\n",
    "btn5=Button(calc, padx=16, bd=8, fg=\"black\", font=(\"arial\", 20, \"bold\"),\n",
    "           text=\"5\",bg=\"powder blue\", command=lambda:btnclick(5)).grid(row=2, column=1)\n",
    "btn6=Button(calc, padx=16, bd=8, fg=\"black\", font=(\"arial\", 20, \"bold\"),\n",
    "           text=\"6\",bg=\"powder blue\", command=lambda:btnclick(6)).grid(row=2, column=2)\n",
    "multi=Button(calc, padx=16, bd=8, fg=\"black\", font=(\"arial\", 20, \"bold\"),\n",
    "           text=\"*\",bg=\"powder blue\", command=lambda:btnclick('*')).grid(row=2, column=3)\n",
    "btn1=Button(calc, padx=16, bd=8, fg=\"black\", font=(\"arial\", 20, \"bold\"),\n",
    "           text=\"1\",bg=\"powder blue\", command=lambda:btnclick(1)).grid(row=3, column=0)\n",
    "btn2=Button(calc, padx=16, bd=8, fg=\"black\", font=(\"arial\", 20, \"bold\"),\n",
    "           text=\"2\",bg=\"powder blue\", command=lambda:btnclick(2)).grid(row=3, column=1)\n",
    "btn3=Button(calc, padx=16, bd=8, fg=\"black\", font=(\"arial\", 20, \"bold\"),\n",
    "           text=\"3\",bg=\"powder blue\", command=lambda:btnclick(3)).grid(row=3, column=2)\n",
    "add=Button(calc, padx=16, bd=8, fg=\"black\", font=(\"arial\", 20, \"bold\"),\n",
    "           text=\"+\",bg=\"powder blue\", command=lambda:btnclick(\"+\")).grid(row=3, column=3)\n",
    "ans=Button(calc, padx=16, bd=8, fg=\"black\", font=(\"arial\", 20, \"bold\"),\n",
    "           text=\"ans\", bg=\"powder blue\", command=btnsum).grid(row=4, column=2)\n",
    "\n",
    "delete=Button(calc, padx=16, bd=8, fg=\"black\", font=(\"arial\", 20, \"bold\"),\n",
    "          text=\"del\", bg=\"red\", command=btnclear).grid(row=4, column=4)\n",
    "\n",
    "\n",
    "\n",
    "calc.mainloop() "
   ]
  },
  {
   "cell_type": "code",
   "execution_count": null,
   "id": "3812f452",
   "metadata": {},
   "outputs": [],
   "source": []
  },
  {
   "cell_type": "code",
   "execution_count": null,
   "id": "d9311492",
   "metadata": {},
   "outputs": [],
   "source": []
  },
  {
   "cell_type": "code",
   "execution_count": null,
   "id": "d70815db",
   "metadata": {},
   "outputs": [],
   "source": []
  },
  {
   "cell_type": "code",
   "execution_count": null,
   "id": "6fbac360",
   "metadata": {},
   "outputs": [],
   "source": []
  },
  {
   "cell_type": "code",
   "execution_count": null,
   "id": "95625b29",
   "metadata": {},
   "outputs": [],
   "source": []
  },
  {
   "cell_type": "code",
   "execution_count": null,
   "id": "4a3d8efe",
   "metadata": {},
   "outputs": [],
   "source": []
  },
  {
   "cell_type": "code",
   "execution_count": null,
   "id": "f11e7b79",
   "metadata": {},
   "outputs": [],
   "source": []
  },
  {
   "cell_type": "code",
   "execution_count": null,
   "id": "5d07dcfa",
   "metadata": {},
   "outputs": [],
   "source": []
  },
  {
   "cell_type": "code",
   "execution_count": null,
   "id": "f785331b",
   "metadata": {},
   "outputs": [],
   "source": []
  },
  {
   "cell_type": "code",
   "execution_count": null,
   "id": "75ace072",
   "metadata": {},
   "outputs": [],
   "source": []
  },
  {
   "cell_type": "code",
   "execution_count": null,
   "id": "2e620460",
   "metadata": {},
   "outputs": [],
   "source": []
  },
  {
   "cell_type": "code",
   "execution_count": null,
   "id": "c50acdec",
   "metadata": {},
   "outputs": [],
   "source": [
    "\n"
   ]
  },
  {
   "cell_type": "code",
   "execution_count": null,
   "id": "96aec768",
   "metadata": {},
   "outputs": [],
   "source": []
  },
  {
   "cell_type": "code",
   "execution_count": null,
   "id": "a9890ec3",
   "metadata": {},
   "outputs": [],
   "source": []
  },
  {
   "cell_type": "code",
   "execution_count": null,
   "id": "b5305033",
   "metadata": {},
   "outputs": [],
   "source": []
  },
  {
   "cell_type": "code",
   "execution_count": null,
   "id": "38e4c58e",
   "metadata": {},
   "outputs": [],
   "source": []
  },
  {
   "cell_type": "code",
   "execution_count": null,
   "id": "cee705d0",
   "metadata": {},
   "outputs": [],
   "source": []
  },
  {
   "cell_type": "code",
   "execution_count": null,
   "id": "a795a986",
   "metadata": {},
   "outputs": [],
   "source": []
  },
  {
   "cell_type": "code",
   "execution_count": null,
   "id": "96fa293f",
   "metadata": {},
   "outputs": [],
   "source": []
  },
  {
   "cell_type": "code",
   "execution_count": null,
   "id": "5bf89123",
   "metadata": {},
   "outputs": [],
   "source": []
  },
  {
   "cell_type": "code",
   "execution_count": null,
   "id": "b8a25b52",
   "metadata": {},
   "outputs": [],
   "source": []
  },
  {
   "cell_type": "code",
   "execution_count": null,
   "id": "8bb04f15",
   "metadata": {},
   "outputs": [],
   "source": []
  },
  {
   "cell_type": "code",
   "execution_count": null,
   "id": "7272cb74",
   "metadata": {},
   "outputs": [],
   "source": []
  },
  {
   "cell_type": "code",
   "execution_count": null,
   "id": "34cfbcbf",
   "metadata": {},
   "outputs": [],
   "source": []
  },
  {
   "cell_type": "code",
   "execution_count": null,
   "id": "d5106eb1",
   "metadata": {},
   "outputs": [],
   "source": []
  },
  {
   "cell_type": "code",
   "execution_count": null,
   "id": "4120de7c",
   "metadata": {},
   "outputs": [],
   "source": []
  },
  {
   "cell_type": "code",
   "execution_count": null,
   "id": "cca76262",
   "metadata": {},
   "outputs": [],
   "source": []
  },
  {
   "cell_type": "code",
   "execution_count": null,
   "id": "90b198a7",
   "metadata": {},
   "outputs": [],
   "source": []
  },
  {
   "cell_type": "code",
   "execution_count": null,
   "id": "bf5138a2",
   "metadata": {},
   "outputs": [],
   "source": []
  },
  {
   "cell_type": "code",
   "execution_count": null,
   "id": "7b49db6c",
   "metadata": {},
   "outputs": [],
   "source": []
  },
  {
   "cell_type": "code",
   "execution_count": null,
   "id": "f0f5b282",
   "metadata": {},
   "outputs": [],
   "source": []
  },
  {
   "cell_type": "code",
   "execution_count": null,
   "id": "9b645479",
   "metadata": {},
   "outputs": [],
   "source": []
  },
  {
   "cell_type": "code",
   "execution_count": null,
   "id": "9a54dc5d",
   "metadata": {},
   "outputs": [],
   "source": []
  },
  {
   "cell_type": "code",
   "execution_count": null,
   "id": "6b94f494",
   "metadata": {},
   "outputs": [],
   "source": []
  },
  {
   "cell_type": "code",
   "execution_count": null,
   "id": "eb7f0e33",
   "metadata": {},
   "outputs": [],
   "source": []
  },
  {
   "cell_type": "code",
   "execution_count": null,
   "id": "8df82034",
   "metadata": {},
   "outputs": [],
   "source": [
    "calc.mainloop()"
   ]
  }
 ],
 "metadata": {
  "kernelspec": {
   "display_name": "Python 3",
   "language": "python",
   "name": "python3"
  },
  "language_info": {
   "codemirror_mode": {
    "name": "ipython",
    "version": 3
   },
   "file_extension": ".py",
   "mimetype": "text/x-python",
   "name": "python",
   "nbconvert_exporter": "python",
   "pygments_lexer": "ipython3",
   "version": "3.8.8"
  }
 },
 "nbformat": 4,
 "nbformat_minor": 5
}
